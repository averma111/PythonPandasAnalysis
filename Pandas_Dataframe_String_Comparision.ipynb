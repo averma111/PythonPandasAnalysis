{
  "nbformat": 4,
  "nbformat_minor": 0,
  "metadata": {
    "colab": {
      "name": "Pandas Dataframe String Comparision.ipynb",
      "provenance": [],
      "collapsed_sections": [],
      "authorship_tag": "ABX9TyO7O+qXW0IMjXDWWRLRAu2Y",
      "include_colab_link": true
    },
    "kernelspec": {
      "name": "python3",
      "display_name": "Python 3"
    },
    "language_info": {
      "name": "python"
    }
  },
  "cells": [
    {
      "cell_type": "markdown",
      "metadata": {
        "id": "view-in-github",
        "colab_type": "text"
      },
      "source": [
        "<a href=\"https://colab.research.google.com/github/averma111/PythonPandasAnalysis/blob/main/Pandas_Dataframe_String_Comparision.ipynb\" target=\"_parent\"><img src=\"https://colab.research.google.com/assets/colab-badge.svg\" alt=\"Open In Colab\"/></a>"
      ]
    },
    {
      "cell_type": "markdown",
      "metadata": {
        "id": "3uX0x4S7U7cm"
      },
      "source": [
        "## **Usecase to find if two dataframes in pandas have equal key values or not.**"
      ]
    },
    {
      "cell_type": "code",
      "metadata": {
        "colab": {
          "base_uri": "https://localhost:8080/"
        },
        "id": "YoVKZzUEU-_S",
        "outputId": "94457664-0d98-41a9-e0ca-6e191f283714"
      },
      "source": [
        "# Importing pandas package\n",
        "import pandas as pd\n",
        "import numpy as np\n",
        "\n",
        "# Function to compare the keys and values from Pandas datafrme\n",
        "def createDataFrame(dict1,dict2):\n",
        "\n",
        "  # Creating DF1\n",
        "  df1=pd.DataFrame(list(dict1.items()),columns=['RequestId', 'Value'])  \n",
        "  # Creating DF2\n",
        "  df2=pd.DataFrame(list(dict2.items()),columns=['RequestId', 'Value'])\n",
        "#######This is how data would look in Pandas DataFrame #########################\n",
        "\n",
        "  # Converting dataframes into dictionaries\n",
        "  dict1=df1.to_dict(orient=\"index\")\n",
        "  dict2=df2.to_dict(orient=\"index\")\n",
        "\n",
        "  return(compareDicts(dict1,dict2))\n",
        "\n",
        "# Function to compare two dictionaries from DataFrame\n",
        "def compareDicts(dict1,dict2):\n",
        "\n",
        "  # Checking if the dictionaries are NULL\n",
        "  if dict1 is None or dict2 is None:\n",
        "    print(\"Either one of the dictionary is null\")\n",
        "\n",
        "    # Checking if the dictionaries are actual dictionary instance\n",
        "  if (not isinstance(dict1, dict)) or (not isinstance(dict2, dict)):\n",
        "    print(\"These are not dictionaries\")\n",
        "\n",
        "  bothdictsareequal = True\n",
        "    # Checking if the keys of both the dictionaries are equal or not.\n",
        "  for key in dict1.keys():\n",
        "    if isinstance(dict1[key], dict) or isinstance(dict2[key], dict):\n",
        "      bothdictsareequal = bothdictsareequal and compareDicts(dict1[key], dict2[key])\n",
        "    else:\n",
        "      bothdictsareequal = bothdictsareequal and all(np.atleast_1d(dict1[key] == dict2[key]))\n",
        "  return bothdictsareequal\n",
        "\n",
        "\n",
        "# Actual Data\n",
        "data1 ={\"206854666937223\":\"3371308755_AVAILABLE=USD1183710&3371308755_PENDING_REVERSAL=USD-5194&3371308755_TOTAL_BALANCE=USD1183710&5540214173_AVAILABLE=AUD119093303&5540214173_PENDING_REVERSAL=AUD000&5540214173_TOTAL_BALANCE=AUD119093303&5465265921_AVAILABLE=CAD000&5465265921_PENDING_REVERSAL=CAD000&5465265921_TOTAL_BALANCE=CAD000&6010325386_AVAILABLE=CHF000&6010325386_PENDING_REVERSAL=CHF000\"}\n",
        "data2={\"206854666937223\":\"3371308755_AVAILABLE=USD1183710&3371308755_TOTAL_BALANCE=USD1183710&5540214173_AVAILABLE=AUD119093303&5540214173_PENDING_REVERSAL=AUD000&5540214173_TOTAL_BALANCE=AUD119093303&5465265921_AVAILABLE=CAD000&5465265921_TOTAL_BALANCE=CAD000&6010325386_AVAILABLE=CHF000&6010325386_PENDING_REVERSAL=CHF000\"}\n",
        "\n",
        "# Invoking function\n",
        "print(createDataFrame(data1,data2))\n",
        "#print(compareDicts(data1,data2))\n"
      ],
      "execution_count": 33,
      "outputs": [
        {
          "output_type": "stream",
          "text": [
            "True\n"
          ],
          "name": "stdout"
        }
      ]
    }
  ]
}